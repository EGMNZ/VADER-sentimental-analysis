{
 "cells": [
  {
   "cell_type": "markdown",
   "id": "24f67aa9",
   "metadata": {},
   "source": [
    "## Sentiment Analysis using Valence Aware Dictionary for Sentiment Reasoner (VADER)"
   ]
  },
  {
   "cell_type": "code",
   "execution_count": 1,
   "id": "842d0c26",
   "metadata": {},
   "outputs": [
    {
     "name": "stderr",
     "output_type": "stream",
     "text": [
      "[nltk_data] Downloading package vader_lexicon to\n",
      "[nltk_data]     /Users/edgar/nltk_data...\n",
      "[nltk_data]   Package vader_lexicon is already up-to-date!\n"
     ]
    },
    {
     "data": {
      "text/plain": [
       "True"
      ]
     },
     "execution_count": 1,
     "metadata": {},
     "output_type": "execute_result"
    }
   ],
   "source": [
    "# Import VADER lexicon\n",
    "import nltk\n",
    "nltk.download('vader_lexicon')"
   ]
  },
  {
   "cell_type": "code",
   "execution_count": 2,
   "id": "edf3bd2b",
   "metadata": {},
   "outputs": [],
   "source": [
    "# Import SentimentIntensityAnalyzer and create an sid object\n",
    "\n",
    "from nltk.sentiment.vader import SentimentIntensityAnalyzer # use NLTK vader documentation\n",
    "\n",
    "sid = SentimentIntensityAnalyzer() # sid object"
   ]
  },
  {
   "cell_type": "code",
   "execution_count": 3,
   "id": "3fb5efd0",
   "metadata": {},
   "outputs": [],
   "source": [
    "# Create review as a string\n",
    "\n",
    "review = 'I really loved the product. I would recommend this to family and friends.'"
   ]
  },
  {
   "cell_type": "code",
   "execution_count": 4,
   "id": "043f15b3",
   "metadata": {},
   "outputs": [],
   "source": [
    "# Create review rating function\n",
    "# Compound score provides polarity and overall sentiment\n",
    "\n",
    "def review_rating(review):\n",
    "    rating = sid.polarity_scores(review)    # Polarity Range: [-1,1], where 0 is Neutral. \n",
    "    if rating['compound'] < 0:              # Negative rating when rating<0\n",
    "        print('Review Sentiment: Negative')\n",
    "    elif rating['compound'] == 0:           # Neutral when rating = 0\n",
    "        print('Review Sentiment: Neutral')\n",
    "    else: \n",
    "        print('Review Sentiment: Positive') # positive when rating>0 (all other cases)\n",
    "    print()\n",
    "    print('Compound Score:', rating['compound'])"
   ]
  },
  {
   "cell_type": "code",
   "execution_count": 5,
   "id": "97a6008d",
   "metadata": {
    "scrolled": true
   },
   "outputs": [
    {
     "name": "stdout",
     "output_type": "stream",
     "text": [
      "Review Sentiment: Positive\n",
      "\n",
      "Compound Score: 0.8687\n"
     ]
    }
   ],
   "source": [
    "# Pass the review to the review_rating function\n",
    "\n",
    "review_rating(review)"
   ]
  },
  {
   "cell_type": "markdown",
   "id": "93483c09",
   "metadata": {},
   "source": [
    "###### For the review used above, the sentiment was determined to be positive, with a compound score of 0.8687. The compound score is high on the positive polarity range. The review was written to contain a high positive sentiment and it coincides with VADER's sentiment classification of the review. "
   ]
  }
 ],
 "metadata": {
  "kernelspec": {
   "display_name": "Python 3 (ipykernel)",
   "language": "python",
   "name": "python3"
  },
  "language_info": {
   "codemirror_mode": {
    "name": "ipython",
    "version": 3
   },
   "file_extension": ".py",
   "mimetype": "text/x-python",
   "name": "python",
   "nbconvert_exporter": "python",
   "pygments_lexer": "ipython3",
   "version": "3.9.13"
  }
 },
 "nbformat": 4,
 "nbformat_minor": 5
}
